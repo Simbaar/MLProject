{
 "cells": [
  {
   "cell_type": "markdown",
   "metadata": {},
   "source": [
    "# Data Ingestion to Snowflake\n",
    "\n",
    "This notebook handles the process of loading the synthetic e-commerce data into Snowflake.\n",
    "\n",
    "## Objectives\n",
    "1. Generate synthetic data (if not already present)\n",
    "2. Connect to Snowflake\n",
    "3. Create the required database schema and tables\n",
    "4. Load data from CSV files into Snowflake tables\n",
    "5. Verify the data load"
   ]
  },
  {
   "cell_type": "code",
   "execution_count": null,
   "metadata": {},
   "outputs": [],
   "source": [
    "# Import libraries\n",
    "import sys\n",
    "sys.path.append(\"/home/ubuntu/snowflake_ds_project\")\n",
    "\n",
    "import os\n",
    "import pandas as pd\n",
    "from pathlib import Path\n",
    "\n",
    "from src.snowflake_connector import SnowflakeConnector\n",
    "from src.data_loader import DataLoader\n",
    "from data.generate_synthetic_data import main as generate_data\n",
    "from config import config\n",
    "\n",
    "print(\"Libraries imported successfully!\")"
   ]
  },
  {
   "cell_type": "markdown",
   "metadata": {},
   "source": [
    "## 1. Generate Synthetic Data"
   ]
  },
  {
   "cell_type": "code",
   "execution_count": null,
   "metadata": {},
   "outputs": [],
   "source": [
    "# Check if data files exist, if not, generate them\n",
    "data_dir = Path(\"/home/ubuntu/snowflake_ds_project/data\")\n",
    "customers_file = data_dir / \"customers.csv\"\n",
    "\n",
    "if not customers_file.exists():\n",
    "    print(\"Data files not found. Generating synthetic data...\")\n",
    "    generate_data()\n",
    "else:\n",
    "    print(\"Data files already exist. Skipping generation.\")"
   ]
  },
  {
   "cell_type": "markdown",
   "metadata": {},
   "source": [
    "## 2. Connect to Snowflake"
   ]
  },
  {
   "cell_type": "code",
   "execution_count": null,
   "metadata": {},
   "outputs": [],
   "source": [
    "# Validate configuration\n",
    "try:\n",
    "    config.validate()\n",
    "    print(\"Configuration validated successfully.\")\n",
    "except ValueError as e:\n",
    "    print(f\"Configuration Error: {e}\")\n",
    "    print(\"Please create a `.env` file in the root directory with your Snowflake credentials.\")"
   ]
  },
  {
   "cell_type": "code",
   "execution_count": null,
   "metadata": {},
   "outputs": [],
   "source": [
    "# Create connector and connect\n",
    "connector = SnowflakeConnector(config.get_connection_params())\n",
    "connector.connect()\n",
    "\n",
    "print(\"Connected to Snowflake successfully!\")"
   ]
  },
  {
   "cell_type": "markdown",
   "metadata": {},
   "source": [
    "## 3. Create Database Schema and Tables"
   ]
  },
  {
   "cell_type": "code",
   "execution_count": null,
   "metadata": {},
   "outputs": [],
   "source": [
    "# Execute the SQL script to create the database structure\n",
    "sql_file_path = \"/home/ubuntu/snowflake_ds_project/sql/create_tables.sql\"\n",
    "\n",
    "try:\n",
    "    print(f\"Executing SQL script: {sql_file_path}\")\n",
    "    connector.execute_sql_file(sql_file_path)\n",
    "    print(\"Database, schemas, and tables created successfully.\")\n",
    "except Exception as e:\n",
    "    print(f\"Error executing SQL script: {e}\")"
   ]
  },
  {
   "cell_type": "markdown",
   "metadata": {},
   "source": [
    "## 4. Load Data into Snowflake"
   ]
  },
  {
   "cell_type": "code",
   "execution_count": null,
   "metadata": {},
   "outputs": [],
   "source": [
    "# Create data loader\n",
    "loader = DataLoader(connector)\n",
    "\n",
    "# Load all data from CSV files to Snowflake\n",
    "loader.load_all_data()"
   ]
  },
  {
   "cell_type": "markdown",
   "metadata": {},
   "source": [
    "## 5. Verify Data Load"
   ]
  },
  {
   "cell_type": "code",
   "execution_count": null,
   "metadata": {},
   "outputs": [],
   "source": [
    "# Verify row counts in Snowflake tables\n",
    "row_counts = loader.verify_data_load()\n",
    "\n",
    "# Compare with CSV file row counts\n",
    "print(\"\\nComparing Snowflake row counts with local CSV files:\")\n",
    "print(\"-\" * 50)\n",
    "\n",
    "file_table_mapping = {\n",
    "    \"customers.csv\": \"CUSTOMERS\",\n",
    "    \"transactions.csv\": \"TRANSACTIONS\",\n",
    "    \"customer_activity.csv\": \"CUSTOMER_ACTIVITY\"\n",
    "}\n",
    "\n",
    "for csv_file, table_name in file_table_mapping.items():\n",
    "    csv_path = data_dir / csv_file\n",
    "    df = pd.read_csv(csv_path)\n",
    "    csv_rows = len(df)\n",
    "    snowflake_rows = row_counts.get(table_name, 0)\n",
    "    \n",
    "    print(f\"Table: {table_name}\")\n",
    "    print(f\"  - CSV Rows:      {csv_rows:,}\")\n",
    "    print(f\"  - Snowflake Rows: {snowflake_rows:,}\")\n",
    "    print(f\"  - Match:         {\"Yes\" if csv_rows == snowflake_rows else \"No\"}\")\n",
    "    print()"
   ]
  },
  {
   "cell_type": "markdown",
   "metadata": {},
   "source": [
    "## 6. Cleanup"
   ]
  },
  {
   "cell_type": "code",
   "execution_count": null,
   "metadata": {},
   "outputs": [],
   "source": [
    "# Disconnect from Snowflake\n",
    "connector.disconnect()\n",
    "print(\"Disconnected from Snowflake\")"
   ]
  }
 ],
 "metadata": {
  "kernelspec": {
   "display_name": "Python 3",
   "language": "python",
   "name": "python3"
  },
  "language_info": {
   "codemirror_mode": {
    "name": "ipython",
    "version": 3
   },
   "file_extension": ".py",
   "mimetype": "text/x-python",
   "name": "python",
   "nbconvert_exporter": "python",
   "pygments_lexer": "ipython3",
   "version": "3.11.0"
  }
 },
 "nbformat": 4,
 "nbformat_minor": 4
}

