{
 "cells": [
  {
   "cell_type": "markdown",
   "metadata": {},
   "source": [
    "# Machine Learning Model Training\n",
    "\n",
    "This notebook trains and evaluates machine learning models for customer churn prediction.\n",
    "\n",
    "## Objectives\n",
    "1. Load features from Snowflake\n",
    "2. Prepare data for modeling\n",
    "3. Train multiple models\n",
    "4. Compare model performance\n",
    "5. Analyze feature importance\n",
    "6. Save best model and predictions to Snowflake"
   ]
  },
  {
   "cell_type": "code",
   "execution_count": null,
   "metadata": {},
   "outputs": [],
   "source": [
    "# Import libraries\n",
    "import sys\n",
    "sys.path.append('/home/ubuntu/snowflake_ds_project')\n",
    "\n",
    "import pandas as pd\n",
    "import numpy as np\n",
    "import matplotlib.pyplot as plt\n",
    "import seaborn as sns\n",
    "import plotly.express as px\n",
    "import plotly.graph_objects as go\n",
    "\n",
    "from sklearn.metrics import roc_curve, auc, confusion_matrix\n",
    "\n",
    "from src.snowflake_connector import SnowflakeConnector\n",
    "from src.model_training import ChurnPredictor\n",
    "from config import config\n",
    "\n",
    "# Set visualization style\n",
    "sns.set_style('whitegrid')\n",
    "plt.rcParams['figure.figsize'] = (12, 6)\n",
    "\n",
    "print(\"Libraries imported successfully!\")"
   ]
  },
  {
   "cell_type": "markdown",
   "metadata": {},
   "source": [
    "## 1. Connect to Snowflake"
   ]
  },
  {
   "cell_type": "code",
   "execution_count": null,
   "metadata": {},
   "outputs": [],
   "source": [
    "# Validate configuration\n",
    "config.validate()\n",
    "\n",
    "# Create connector\n",
    "connector = SnowflakeConnector(config.get_connection_params())\n",
    "connector.connect()\n",
    "\n",
    "print(\"Connected to Snowflake successfully!\")"
   ]
  },
  {
   "cell_type": "markdown",
   "metadata": {},
   "source": [
    "## 2. Prepare Data"
   ]
  },
  {
   "cell_type": "code",
   "execution_count": null,
   "metadata": {},
   "outputs": [],
   "source": [
    "# Create predictor\n",
    "predictor = ChurnPredictor(connector)\n",
    "\n",
    "# Prepare data\n",
    "X_train, X_test, y_train, y_test = predictor.prepare_data(\n",
    "    test_size=0.2,\n",
    "    balance_data=True\n",
    ")\n",
    "\n",
    "print(f\"Training set shape: {X_train.shape}\")\n",
    "print(f\"Test set shape: {X_test.shape}\")"
   ]
  },
  {
   "cell_type": "markdown",
   "metadata": {},
   "source": [
    "## 3. Train Multiple Models"
   ]
  },
  {
   "cell_type": "code",
   "execution_count": null,
   "metadata": {},
   "outputs": [],
   "source": [
    "# Dictionary to store results\n",
    "model_results = {}\n",
    "\n",
    "# List of models to train\n",
    "model_types = ['logistic', 'random_forest', 'gradient_boosting', 'xgboost']\n",
    "\n",
    "for model_type in model_types:\n",
    "    print(f\"\\n{'='*60}\")\n",
    "    print(f\"Training {model_type.upper()} model\")\n",
    "    print(f\"{'='*60}\")\n",
    "    \n",
    "    # Create new predictor for each model\n",
    "    temp_predictor = ChurnPredictor(connector)\n",
    "    temp_predictor.feature_names = predictor.feature_names\n",
    "    temp_predictor.scaler = predictor.scaler\n",
    "    \n",
    "    # Train model\n",
    "    temp_predictor.train_model(\n",
    "        model_type=model_type,\n",
    "        X_train=X_train,\n",
    "        y_train=y_train,\n",
    "        tune_hyperparameters=False\n",
    "    )\n",
    "    \n",
    "    # Evaluate model\n",
    "    metrics = temp_predictor.evaluate_model(X_test, y_test)\n",
    "    \n",
    "    # Store results\n",
    "    model_results[model_type] = {\n",
    "        'predictor': temp_predictor,\n",
    "        'metrics': metrics\n",
    "    }\n",
    "\n",
    "print(\"\\nAll models trained successfully!\")"
   ]
  },
  {
   "cell_type": "markdown",
   "metadata": {},
   "source": [
    "## 4. Compare Model Performance"
   ]
  },
  {
   "cell_type": "code",
   "execution_count": null,
   "metadata": {},
   "outputs": [],
   "source": [
    "# Create comparison DataFrame\n",
    "comparison_df = pd.DataFrame({\n",
    "    model_name: results['metrics']\n",
    "    for model_name, results in model_results.items()\n",
    "}).T\n",
    "\n",
    "comparison_df = comparison_df.round(4)\n",
    "print(\"\\nModel Performance Comparison:\")\n",
    "print(comparison_df)"
   ]
  },
  {
   "cell_type": "code",
   "execution_count": null,
   "metadata": {},
   "outputs": [],
   "source": [
    "# Visualize model comparison\n",
    "fig, axes = plt.subplots(1, 2, figsize=(16, 6))\n",
    "\n",
    "# Bar plot for all metrics\n",
    "comparison_df.plot(kind='bar', ax=axes[0])\n",
    "axes[0].set_title('Model Performance Comparison - All Metrics')\n",
    "axes[0].set_xlabel('Model')\n",
    "axes[0].set_ylabel('Score')\n",
    "axes[0].legend(loc='lower right')\n",
    "axes[0].set_xticklabels(axes[0].get_xticklabels(), rotation=45, ha='right')\n",
    "axes[0].set_ylim([0, 1])\n",
    "axes[0].grid(True, alpha=0.3)\n",
    "\n",
    "# Focus on key metrics\n",
    "key_metrics = ['accuracy', 'f1_score', 'roc_auc']\n",
    "comparison_df[key_metrics].plot(kind='bar', ax=axes[1])\n",
    "axes[1].set_title('Model Performance Comparison - Key Metrics')\n",
    "axes[1].set_xlabel('Model')\n",
    "axes[1].set_ylabel('Score')\n",
    "axes[1].legend(loc='lower right')\n",
    "axes[1].set_xticklabels(axes[1].get_xticklabels(), rotation=45, ha='right')\n",
    "axes[1].set_ylim([0, 1])\n",
    "axes[1].grid(True, alpha=0.3)\n",
    "\n",
    "plt.tight_layout()\n",
    "plt.show()"
   ]
  },
  {
   "cell_type": "code",
   "execution_count": null,
   "metadata": {},
   "outputs": [],
   "source": [
    "# ROC curves for all models\n",
    "plt.figure(figsize=(10, 8))\n",
    "\n",
    "for model_name, results in model_results.items():\n",
    "    model = results['predictor'].model\n",
    "    y_pred_proba = model.predict_proba(X_test)[:, 1]\n",
    "    fpr, tpr, _ = roc_curve(y_test, y_pred_proba)\n",
    "    roc_auc = auc(fpr, tpr)\n",
    "    \n",
    "    plt.plot(fpr, tpr, label=f'{model_name} (AUC = {roc_auc:.4f})', linewidth=2)\n",
    "\n",
    "plt.plot([0, 1], [0, 1], 'k--', label='Random Classifier', linewidth=1)\n",
    "plt.xlabel('False Positive Rate')\n",
    "plt.ylabel('True Positive Rate')\n",
    "plt.title('ROC Curves - Model Comparison')\n",
    "plt.legend(loc='lower right')\n",
    "plt.grid(True, alpha=0.3)\n",
    "plt.show()"
   ]
  },
  {
   "cell_type": "markdown",
   "metadata": {},
   "source": [
    "## 5. Select Best Model and Analyze"
   ]
  },
  {
   "cell_type": "code",
   "execution_count": null,
   "metadata": {},
   "outputs": [],
   "source": [
    "# Select best model based on ROC AUC\n",
    "best_model_name = comparison_df['roc_auc'].idxmax()\n",
    "best_predictor = model_results[best_model_name]['predictor']\n",
    "\n",
    "print(f\"Best Model: {best_model_name.upper()}\")\n",
    "print(f\"ROC AUC: {comparison_df.loc[best_model_name, 'roc_auc']:.4f}\")"
   ]
  },
  {
   "cell_type": "code",
   "execution_count": null,
   "metadata": {},
   "outputs": [],
   "source": [
    "# Confusion matrix for best model\n",
    "y_pred = best_predictor.model.predict(X_test)\n",
    "cm = confusion_matrix(y_test, y_pred)\n",
    "\n",
    "plt.figure(figsize=(8, 6))\n",
    "sns.heatmap(cm, annot=True, fmt='d', cmap='Blues', \n",
    "            xticklabels=['Active', 'Churned'],\n",
    "            yticklabels=['Active', 'Churned'])\n",
    "plt.title(f'Confusion Matrix - {best_model_name.upper()}')\n",
    "plt.ylabel('Actual')\n",
    "plt.xlabel('Predicted')\n",
    "plt.show()\n",
    "\n",
    "print(f\"\\nTrue Negatives: {cm[0, 0]}\")\n",
    "print(f\"False Positives: {cm[0, 1]}\")\n",
    "print(f\"False Negatives: {cm[1, 0]}\")\n",
    "print(f\"True Positives: {cm[1, 1]}\")"
   ]
  },
  {
   "cell_type": "markdown",
   "metadata": {},
   "source": [
    "## 6. Feature Importance Analysis"
   ]
  },
  {
   "cell_type": "code",
   "execution_count": null,
   "metadata": {},
   "outputs": [],
   "source": [
    "# Get feature importance\n",
    "feature_importance_df = best_predictor.get_feature_importance()\n",
    "\n",
    "if feature_importance_df is not None:\n",
    "    print(\"\\nFeature Importance:\")\n",
    "    print(feature_importance_df)\n",
    "    \n",
    "    # Visualize feature importance\n",
    "    plt.figure(figsize=(10, 8))\n",
    "    plt.barh(feature_importance_df['feature'], feature_importance_df['importance'])\n",
    "    plt.xlabel('Importance')\n",
    "    plt.ylabel('Feature')\n",
    "    plt.title(f'Feature Importance - {best_model_name.upper()}')\n",
    "    plt.gca().invert_yaxis()\n",
    "    plt.tight_layout()\n",
    "    plt.show()\n",
    "else:\n",
    "    print(\"Feature importance not available for this model\")"
   ]
  },
  {
   "cell_type": "markdown",
   "metadata": {},
   "source": [
    "## 7. Prediction Distribution Analysis"
   ]
  },
  {
   "cell_type": "code",
   "execution_count": null,
   "metadata": {},
   "outputs": [],
   "source": [
    "# Get prediction probabilities\n",
    "y_pred_proba = best_predictor.model.predict_proba(X_test)[:, 1]\n",
    "\n",
    "# Create DataFrame for analysis\n",
    "pred_df = pd.DataFrame({\n",
    "    'actual': y_test,\n",
    "    'predicted_proba': y_pred_proba,\n",
    "    'predicted': y_pred\n",
    "})\n",
    "\n",
    "# Plot prediction probability distribution\n",
    "fig, axes = plt.subplots(1, 2, figsize=(16, 6))\n",
    "\n",
    "# Distribution by actual class\n",
    "for actual_class in [0, 1]:\n",
    "    data = pred_df[pred_df['actual'] == actual_class]['predicted_proba']\n",
    "    axes[0].hist(data, bins=50, alpha=0.6, \n",
    "                label=f'Actual: {\"Churned\" if actual_class == 1 else \"Active\"}')\n",
    "\n",
    "axes[0].set_xlabel('Predicted Churn Probability')\n",
    "axes[0].set_ylabel('Frequency')\n",
    "axes[0].set_title('Prediction Probability Distribution by Actual Class')\n",
    "axes[0].legend()\n",
    "axes[0].grid(True, alpha=0.3)\n",
    "\n",
    "# Overall distribution\n",
    "axes[1].hist(pred_df['predicted_proba'], bins=50, edgecolor='black', alpha=0.7)\n",
    "axes[1].axvline(0.5, color='red', linestyle='--', label='Decision Threshold (0.5)')\n",
    "axes[1].set_xlabel('Predicted Churn Probability')\n",
    "axes[1].set_ylabel('Frequency')\n",
    "axes[1].set_title('Overall Prediction Probability Distribution')\n",
    "axes[1].legend()\n",
    "axes[1].grid(True, alpha=0.3)\n",
    "\n",
    "plt.tight_layout()\n",
    "plt.show()"
   ]
  },
  {
   "cell_type": "markdown",
   "metadata": {},
   "source": [
    "## 8. Save Model and Predictions to Snowflake"
   ]
  },
  {
   "cell_type": "code",
   "execution_count": null,
   "metadata": {},
   "outputs": [],
   "source": [
    "# Save model metadata to Snowflake\n",
    "model_id = best_predictor.save_model_to_snowflake(\n",
    "    model_name=f'{best_model_name.upper()}_Churn_Predictor'\n",
    ")\n",
    "\n",
    "print(f\"Model saved with ID: {model_id}\")"
   ]
  },
  {
   "cell_type": "code",
   "execution_count": null,
   "metadata": {},
   "outputs": [],
   "source": [
    "# Generate and save predictions for all customers\n",
    "best_predictor.predict_and_save(model_id)\n",
    "\n",
    "print(\"Predictions saved to Snowflake successfully!\")"
   ]
  },
  {
   "cell_type": "markdown",
   "metadata": {},
   "source": [
    "## 9. Verify Saved Data in Snowflake"
   ]
  },
  {
   "cell_type": "code",
   "execution_count": null,
   "metadata": {},
   "outputs": [],
   "source": [
    "# Check model metadata\n",
    "model_query = \"\"\"\n",
    "SELECT *\n",
    "FROM ECOMMERCE_DB.ML_MODELS.MODEL_METADATA\n",
    "ORDER BY training_date DESC\n",
    "LIMIT 5\n",
    "\"\"\"\n",
    "\n",
    "models_df = connector.execute_query_to_df(model_query)\n",
    "print(\"\\nRecent Models in Snowflake:\")\n",
    "models_df"
   ]
  },
  {
   "cell_type": "code",
   "execution_count": null,
   "metadata": {},
   "outputs": [],
   "source": [
    "# Check predictions\n",
    "predictions_query = f\"\"\"\n",
    "SELECT \n",
    "    predicted_churn,\n",
    "    COUNT(*) as customer_count,\n",
    "    AVG(churn_probability) as avg_probability\n",
    "FROM ECOMMERCE_DB.ML_MODELS.PREDICTIONS\n",
    "WHERE model_id = '{model_id}'\n",
    "GROUP BY predicted_churn\n",
    "\"\"\"\n",
    "\n",
    "pred_summary_df = connector.execute_query_to_df(predictions_query)\n",
    "print(\"\\nPrediction Summary:\")\n",
    "pred_summary_df"
   ]
  },
  {
   "cell_type": "code",
   "execution_count": null,
   "metadata": {},
   "outputs": [],
   "source": [
    "# Sample predictions\n",
    "sample_predictions_query = f\"\"\"\n",
    "SELECT \n",
    "    customer_id,\n",
    "    churn_probability,\n",
    "    predicted_churn\n",
    "FROM ECOMMERCE_DB.ML_MODELS.PREDICTIONS\n",
    "WHERE model_id = '{model_id}'\n",
    "ORDER BY churn_probability DESC\n",
    "LIMIT 10\n",
    "\"\"\"\n",
    "\n",
    "sample_preds_df = connector.execute_query_to_df(sample_predictions_query)\n",
    "print(\"\\nTop 10 Customers at Risk of Churn:\")\n",
    "sample_preds_df"
   ]
  },
  {
   "cell_type": "markdown",
   "metadata": {},
   "source": [
    "## 10. Summary"
   ]
  },
  {
   "cell_type": "code",
   "execution_count": null,
   "metadata": {},
   "outputs": [],
   "source": [
    "print(\"=\" * 60)\n",
    "print(\"MODEL TRAINING SUMMARY\")\n",
    "print(\"=\" * 60)\n",
    "print(f\"\\nBest Model: {best_model_name.upper()}\")\n",
    "print(f\"\\nPerformance Metrics:\")\n",
    "for metric, value in model_results[best_model_name]['metrics'].items():\n",
    "    print(f\"  {metric.capitalize()}: {value:.4f}\")\n",
    "\n",
    "if feature_importance_df is not None:\n",
    "    print(f\"\\nTop 5 Most Important Features:\")\n",
    "    for idx, row in feature_importance_df.head(5).iterrows():\n",
    "        print(f\"  {row['feature']}: {row['importance']:.4f}\")\n",
    "\n",
    "print(f\"\\nModel ID: {model_id}\")\n",
    "print(f\"\\nModel and predictions saved to Snowflake successfully!\")\n",
    "print(\"=\" * 60)"
   ]
  },
  {
   "cell_type": "markdown",
   "metadata": {},
   "source": [
    "## 11. Cleanup"
   ]
  },
  {
   "cell_type": "code",
   "execution_count": null,
   "metadata": {},
   "outputs": [],
   "source": [
    "# Disconnect from Snowflake\n",
    "connector.disconnect()\n",
    "print(\"Disconnected from Snowflake\")"
   ]
  }
 ],
 "metadata": {
  "kernelspec": {
   "display_name": "Python 3",
   "language": "python",
   "name": "python3"
  },
  "language_info": {
   "codemirror_mode": {
    "name": "ipython",
    "version": 3
   },
   "file_extension": ".py",
   "mimetype": "text/x-python",
   "name": "python",
   "nbconvert_exporter": "python",
   "pygments_lexer": "ipython3",
   "version": "3.11.0"
  }
 },
 "nbformat": 4,
 "nbformat_minor": 4
}

