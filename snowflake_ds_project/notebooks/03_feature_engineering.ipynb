{
 "cells": [
  {
   "cell_type": "markdown",
   "metadata": {},
   "source": [
    "# Feature Engineering with Snowflake\n",
    "\n",
    "This notebook focuses on creating the features required for the churn prediction model. The feature engineering logic is primarily executed using SQL within Snowflake to leverage its powerful analytical capabilities.\n",
    "\n",
    "## Objectives\n",
    "1. Connect to Snowflake\n",
    "2. Create the `CUSTOMER_360` analytical view\n",
    "3. Create the `CUSTOMER_FEATURES` table for machine learning\n",
    "4. Verify the created tables and views"
   ]
  },
  {
   "cell_type": "code",
   "execution_count": null,
   "metadata": {},
   "outputs": [],
   "source": [
    "# Import libraries\n",
    "import sys\n",
    "sys.path.append(\"/home/ubuntu/snowflake_ds_project\")\n",
    "\n",
    "import pandas as pd\n",
    "\n",
    "from src.snowflake_connector import SnowflakeConnector\n",
    "from src.data_loader import DataLoader\n",
    "from config import config\n",
    "\n",
    "print(\"Libraries imported successfully!\")"
   ]
  },
  {
   "cell_type": "markdown",
   "metadata": {},
   "source": [
    "## 1. Connect to Snowflake"
   ]
  },
  {
   "cell_type": "code",
   "execution_count": null,
   "metadata": {},
   "outputs": [],
   "source": [
    "# Validate configuration\n",
    "config.validate()\n",
    "\n",
    "# Create connector and connect\n",
    "connector = SnowflakeConnector(config.get_connection_params())\n",
    "connector.connect()\n",
    "\n",
    "print(\"Connected to Snowflake successfully!\")"
   ]
  },
  {
   "cell_type": "markdown",
   "metadata": {},
   "source": [
    "## 2. Create `CUSTOMER_360` View\n",
    "\n",
    "This view consolidates data from the `CUSTOMERS`, `TRANSACTIONS`, and `CUSTOMER_ACTIVITY` tables to create a comprehensive, 360-degree view of each customer."
   ]
  },
  {
   "cell_type": "code",
   "execution_count": null,
   "metadata": {},
   "outputs": [],
   "source": [
    "customer_360_query = \"\"\"\n",
    "CREATE OR REPLACE VIEW ECOMMERCE_DB.ANALYTICS.CUSTOMER_360 AS\n",
    "SELECT \n",
    "    c.customer_id,\n",
    "    c.registration_date,\n",
    "    c.age,\n",
    "    c.gender,\n",
    "    c.country,\n",
    "    c.membership_tier,\n",
    "    ca.last_login_date,\n",
    "    ca.page_views,\n",
    "    ca.support_tickets,\n",
    "    ca.email_opened,\n",
    "    COUNT(DISTINCT t.transaction_id) as total_transactions,\n",
    "    SUM(t.amount) as total_spend,\n",
    "    AVG(t.amount) as avg_transaction_value,\n",
    "    MAX(t.transaction_date) as last_transaction_date,\n",
    "    DATEDIFF(day, MAX(t.transaction_date), CURRENT_DATE()) as days_since_last_purchase\n",
    "FROM ECOMMERCE_DB.RAW_DATA.CUSTOMERS c\n",
    "LEFT JOIN ECOMMERCE_DB.RAW_DATA.CUSTOMER_ACTIVITY ca \n",
    "    ON c.customer_id = ca.customer_id\n",
    "LEFT JOIN ECOMMERCE_DB.RAW_DATA.TRANSACTIONS t \n",
    "    ON c.customer_id = t.customer_id\n",
    "GROUP BY \n",
    "    c.customer_id, c.registration_date, c.age, c.gender, \n",
    "    c.country, c.membership_tier, ca.last_login_date, \n",
    "    ca.page_views, ca.support_tickets, ca.email_opened;\n",
    "\"\"\"\n",
    "\n",
    "try:\n",
    "    print(\"Creating CUSTOMER_360 view...\")\n",
    "    connector.execute_query(customer_360_query)\n",
    "    print(\"CUSTOMER_360 view created successfully.\")\n",
    "except Exception as e:\n",
    "    print(f\"Error creating view: {e}\")"
   ]
  },
  {
   "cell_type": "code",
   "execution_count": null,
   "metadata": {},
   "outputs": [],
   "source": [
    "# Preview the view\n",
    "preview_query = \"SELECT * FROM ECOMMERCE_DB.ANALYTICS.CUSTOMER_360 LIMIT 10;\"\n",
    "customer_360_df = connector.execute_query_to_df(preview_query)\n",
    "customer_360_df"
   ]
  },
  {
   "cell_type": "markdown",
   "metadata": {},
   "source": [
    "## 3. Create `CUSTOMER_FEATURES` Table\n",
    "\n",
    "This table transforms the data from the `CUSTOMER_360` view into a format suitable for machine learning. This includes:\n",
    "- Encoding categorical variables (e.g., `gender`, `membership_tier`)\n",
    "- Calculating time-based features (e.g., `days_since_registration`)\n",
    "- Handling null values\n",
    "- Defining the target variable (`is_churned`)"
   ]
  },
  {
   "cell_type": "code",
   "execution_count": null,
   "metadata": {},
   "outputs": [],
   "source": [
    "# Use the DataLoader to create the feature table\n",
    "loader = DataLoader(connector)\n",
    "\n",
    "try:\n",
    "    loader.create_feature_table()\n",
    "except Exception as e:\n",
    "    print(f\"Error creating feature table: {e}\")"
   ]
  },
  {
   "cell_type": "code",
   "execution_count": null,
   "metadata": {},
   "outputs": [],
   "source": [
    "# Preview the feature table\n",
    "preview_query = \"SELECT * FROM ECOMMERCE_DB.FEATURES.CUSTOMER_FEATURES LIMIT 10;\"\n",
    "features_df = connector.execute_query_to_df(preview_query)\n",
    "features_df"
   ]
  },
  {
   "cell_type": "markdown",
   "metadata": {},
   "source": [
    "## 4. Verify Creations"
   ]
  },
  {
   "cell_type": "code",
   "execution_count": null,
   "metadata": {},
   "outputs": [],
   "source": [
    "# Verify row counts\n",
    "customer_count = connector.get_row_count(\"CUSTOMERS\", schema=\"RAW_DATA\")\n",
    "feature_count = connector.get_row_count(\"CUSTOMER_FEATURES\", schema=\"FEATURES\")\n",
    "\n",
    "print(f\"Total customers in RAW_DATA.CUSTOMERS: {customer_count:,}\")\n",
    "print(f\"Total customers in FEATURES.CUSTOMER_FEATURES: {feature_count:,}\")\n",
    "print(f\"Row counts match: {customer_count == feature_count}\")"
   ]
  },
  {
   "cell_type": "code",
   "execution_count": null,
   "metadata": {},
   "outputs": [],
   "source": [
    "# Check churn distribution in the feature table\n",
    "churn_dist_query = \"\"\"\n",
    "SELECT \n",
    "    is_churned,\n",
    "    COUNT(*) as customer_count,\n",
    "    (COUNT(*) / (SELECT COUNT(*) FROM ECOMMERCE_DB.FEATURES.CUSTOMER_FEATURES)) * 100 as percentage\n",
    "FROM ECOMMERCE_DB.FEATURES.CUSTOMER_FEATURES\n",
    "GROUP BY is_churned;\n",
    "\"\"\"\n",
    "\n",
    "churn_df = connector.execute_query_to_df(churn_dist_query)\n",
    "churn_df"
   ]
  },
  {
   "cell_type": "markdown",
   "metadata": {},
   "source": [
    "## 5. Cleanup"
   ]
  },
  {
   "cell_type": "code",
   "execution_count": null,
   "metadata": {},
   "outputs": [],
   "source": [
    "# Disconnect from Snowflake\n",
    "connector.disconnect()\n",
    "print(\"Disconnected from Snowflake\")"
   ]
  }
 ],
 "metadata": {
  "kernelspec": {
   "display_name": "Python 3",
   "language": "python",
   "name": "python3"
  },
  "language_info": {
   "codemirror_mode": {
    "name": "ipython",
    "version": 3
   },
   "file_extension": ".py",
   "mimetype": "text/x-python",
   "name": "python",
   "nbconvert_exporter": "python",
   "pygments_lexer": "ipython3",
   "version": "3.11.0"
  }
 },
 "nbformat": 4,
 "nbformat_minor": 4
}

