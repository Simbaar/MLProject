{
 "cells": [
  {
   "cell_type": "markdown",
   "metadata": {},
   "source": [
    "# Exploratory Data Analysis (EDA)\n",
    "\n",
    "This notebook performs exploratory data analysis on the e-commerce customer data stored in Snowflake.\n",
    "\n",
    "## Objectives\n",
    "1. Connect to Snowflake and retrieve data\n",
    "2. Analyze customer demographics and behavior\n",
    "3. Explore transaction patterns\n",
    "4. Investigate churn patterns\n",
    "5. Visualize key insights"
   ]
  },
  {
   "cell_type": "code",
   "execution_count": null,
   "metadata": {},
   "outputs": [],
   "source": [
    "# Import libraries\n",
    "import sys\n",
    "sys.path.append('/home/ubuntu/snowflake_ds_project')\n",
    "\n",
    "import pandas as pd\n",
    "import numpy as np\n",
    "import matplotlib.pyplot as plt\n",
    "import seaborn as sns\n",
    "import plotly.express as px\n",
    "import plotly.graph_objects as go\n",
    "from plotly.subplots import make_subplots\n",
    "\n",
    "from src.snowflake_connector import SnowflakeConnector\n",
    "from src.feature_engineering import FeatureEngineer\n",
    "from config import config\n",
    "\n",
    "# Set visualization style\n",
    "sns.set_style('whitegrid')\n",
    "plt.rcParams['figure.figsize'] = (12, 6)\n",
    "\n",
    "# Display settings\n",
    "pd.set_option('display.max_columns', None)\n",
    "pd.set_option('display.max_rows', 100)\n",
    "\n",
    "print(\"Libraries imported successfully!\")"
   ]
  },
  {
   "cell_type": "markdown",
   "metadata": {},
   "source": [
    "## 1. Connect to Snowflake"
   ]
  },
  {
   "cell_type": "code",
   "execution_count": null,
   "metadata": {},
   "outputs": [],
   "source": [
    "# Validate configuration\n",
    "config.validate()\n",
    "\n",
    "# Create connector\n",
    "connector = SnowflakeConnector(config.get_connection_params())\n",
    "connector.connect()\n",
    "\n",
    "# Create feature engineer\n",
    "engineer = FeatureEngineer(connector)\n",
    "\n",
    "print(\"Connected to Snowflake successfully!\")"
   ]
  },
  {
   "cell_type": "markdown",
   "metadata": {},
   "source": [
    "## 2. Load Data from Snowflake"
   ]
  },
  {
   "cell_type": "code",
   "execution_count": null,
   "metadata": {},
   "outputs": [],
   "source": [
    "# Get customer 360 view\n",
    "customer_df = engineer.get_customer_360_view(limit=10000)\n",
    "\n",
    "print(f\"Loaded {len(customer_df)} customer records\")\n",
    "print(f\"\\nDataset shape: {customer_df.shape}\")\n",
    "print(f\"\\nColumns: {list(customer_df.columns)}\")"
   ]
  },
  {
   "cell_type": "code",
   "execution_count": null,
   "metadata": {},
   "outputs": [],
   "source": [
    "# Display first few rows\n",
    "customer_df.head()"
   ]
  },
  {
   "cell_type": "code",
   "execution_count": null,
   "metadata": {},
   "outputs": [],
   "source": [
    "# Data info\n",
    "customer_df.info()"
   ]
  },
  {
   "cell_type": "code",
   "execution_count": null,
   "metadata": {},
   "outputs": [],
   "source": [
    "# Statistical summary\n",
    "customer_df.describe()"
   ]
  },
  {
   "cell_type": "markdown",
   "metadata": {},
   "source": [
    "## 3. Customer Demographics Analysis"
   ]
  },
  {
   "cell_type": "code",
   "execution_count": null,
   "metadata": {},
   "outputs": [],
   "source": [
    "# Age distribution\n",
    "fig, axes = plt.subplots(1, 2, figsize=(15, 5))\n",
    "\n",
    "# Histogram\n",
    "axes[0].hist(customer_df['AGE'].dropna(), bins=30, edgecolor='black', alpha=0.7)\n",
    "axes[0].set_xlabel('Age')\n",
    "axes[0].set_ylabel('Frequency')\n",
    "axes[0].set_title('Age Distribution')\n",
    "axes[0].axvline(customer_df['AGE'].mean(), color='red', linestyle='--', label=f'Mean: {customer_df[\"AGE\"].mean():.1f}')\n",
    "axes[0].legend()\n",
    "\n",
    "# Box plot\n",
    "axes[1].boxplot(customer_df['AGE'].dropna())\n",
    "axes[1].set_ylabel('Age')\n",
    "axes[1].set_title('Age Box Plot')\n",
    "\n",
    "plt.tight_layout()\n",
    "plt.show()"
   ]
  },
  {
   "cell_type": "code",
   "execution_count": null,
   "metadata": {},
   "outputs": [],
   "source": [
    "# Gender distribution\n",
    "gender_counts = customer_df['GENDER'].value_counts()\n",
    "\n",
    "fig = px.pie(values=gender_counts.values, names=gender_counts.index, \n",
    "             title='Gender Distribution',\n",
    "             hole=0.4)\n",
    "fig.show()"
   ]
  },
  {
   "cell_type": "code",
   "execution_count": null,
   "metadata": {},
   "outputs": [],
   "source": [
    "# Country distribution\n",
    "country_counts = customer_df['COUNTRY'].value_counts()\n",
    "\n",
    "fig = px.bar(x=country_counts.index, y=country_counts.values,\n",
    "             labels={'x': 'Country', 'y': 'Number of Customers'},\n",
    "             title='Customer Distribution by Country')\n",
    "fig.show()"
   ]
  },
  {
   "cell_type": "code",
   "execution_count": null,
   "metadata": {},
   "outputs": [],
   "source": [
    "# Membership tier distribution\n",
    "tier_counts = customer_df['MEMBERSHIP_TIER'].value_counts()\n",
    "\n",
    "fig = px.bar(x=tier_counts.index, y=tier_counts.values,\n",
    "             labels={'x': 'Membership Tier', 'y': 'Number of Customers'},\n",
    "             title='Membership Tier Distribution',\n",
    "             color=tier_counts.index,\n",
    "             color_discrete_map={'Gold': 'gold', 'Silver': 'silver', 'Bronze': '#CD7F32'})\n",
    "fig.show()"
   ]
  },
  {
   "cell_type": "markdown",
   "metadata": {},
   "source": [
    "## 4. Transaction Analysis"
   ]
  },
  {
   "cell_type": "code",
   "execution_count": null,
   "metadata": {},
   "outputs": [],
   "source": [
    "# Get transaction summary\n",
    "transaction_summary = engineer.get_transaction_summary()\n",
    "transaction_summary"
   ]
  },
  {
   "cell_type": "code",
   "execution_count": null,
   "metadata": {},
   "outputs": [],
   "source": [
    "# Revenue by product category\n",
    "fig = px.bar(transaction_summary, \n",
    "             x='PRODUCT_CATEGORY', \n",
    "             y='TOTAL_REVENUE',\n",
    "             title='Total Revenue by Product Category',\n",
    "             labels={'TOTAL_REVENUE': 'Total Revenue ($)', 'PRODUCT_CATEGORY': 'Product Category'})\n",
    "fig.show()"
   ]
  },
  {
   "cell_type": "code",
   "execution_count": null,
   "metadata": {},
   "outputs": [],
   "source": [
    "# Transaction count vs average value\n",
    "fig = px.scatter(transaction_summary,\n",
    "                 x='TRANSACTION_COUNT',\n",
    "                 y='AVG_TRANSACTION_VALUE',\n",
    "                 size='TOTAL_REVENUE',\n",
    "                 color='PRODUCT_CATEGORY',\n",
    "                 hover_data=['PRODUCT_CATEGORY'],\n",
    "                 title='Transaction Count vs Average Value by Category',\n",
    "                 labels={'TRANSACTION_COUNT': 'Number of Transactions',\n",
    "                        'AVG_TRANSACTION_VALUE': 'Average Transaction Value ($)'})\n",
    "fig.show()"
   ]
  },
  {
   "cell_type": "code",
   "execution_count": null,
   "metadata": {},
   "outputs": [],
   "source": [
    "# Customer spending distribution\n",
    "fig, axes = plt.subplots(1, 2, figsize=(15, 5))\n",
    "\n",
    "# Total spend distribution\n",
    "axes[0].hist(customer_df['TOTAL_SPEND'].dropna(), bins=50, edgecolor='black', alpha=0.7)\n",
    "axes[0].set_xlabel('Total Spend ($)')\n",
    "axes[0].set_ylabel('Frequency')\n",
    "axes[0].set_title('Total Spend Distribution')\n",
    "axes[0].axvline(customer_df['TOTAL_SPEND'].median(), color='red', linestyle='--', \n",
    "                label=f'Median: ${customer_df[\"TOTAL_SPEND\"].median():.2f}')\n",
    "axes[0].legend()\n",
    "\n",
    "# Average transaction value distribution\n",
    "axes[1].hist(customer_df['AVG_TRANSACTION_VALUE'].dropna(), bins=50, edgecolor='black', alpha=0.7)\n",
    "axes[1].set_xlabel('Average Transaction Value ($)')\n",
    "axes[1].set_ylabel('Frequency')\n",
    "axes[1].set_title('Average Transaction Value Distribution')\n",
    "axes[1].axvline(customer_df['AVG_TRANSACTION_VALUE'].median(), color='red', linestyle='--',\n",
    "                label=f'Median: ${customer_df[\"AVG_TRANSACTION_VALUE\"].median():.2f}')\n",
    "axes[1].legend()\n",
    "\n",
    "plt.tight_layout()\n",
    "plt.show()"
   ]
  },
  {
   "cell_type": "markdown",
   "metadata": {},
   "source": [
    "## 5. Customer Engagement Analysis"
   ]
  },
  {
   "cell_type": "code",
   "execution_count": null,
   "metadata": {},
   "outputs": [],
   "source": [
    "# Page views distribution\n",
    "fig = px.histogram(customer_df, x='PAGE_VIEWS', nbins=50,\n",
    "                   title='Page Views Distribution',\n",
    "                   labels={'PAGE_VIEWS': 'Page Views'})\n",
    "fig.show()"
   ]
  },
  {
   "cell_type": "code",
   "execution_count": null,
   "metadata": {},
   "outputs": [],
   "source": [
    "# Email engagement\n",
    "fig = px.histogram(customer_df, x='EMAIL_OPENED', nbins=30,\n",
    "                   title='Email Opened Distribution',\n",
    "                   labels={'EMAIL_OPENED': 'Emails Opened'})\n",
    "fig.show()"
   ]
  },
  {
   "cell_type": "code",
   "execution_count": null,
   "metadata": {},
   "outputs": [],
   "source": [
    "# Support tickets\n",
    "support_counts = customer_df['SUPPORT_TICKETS'].value_counts().sort_index()\n",
    "\n",
    "fig = px.bar(x=support_counts.index, y=support_counts.values,\n",
    "             labels={'x': 'Number of Support Tickets', 'y': 'Number of Customers'},\n",
    "             title='Support Tickets Distribution')\n",
    "fig.show()"
   ]
  },
  {
   "cell_type": "markdown",
   "metadata": {},
   "source": [
    "## 6. Churn Analysis"
   ]
  },
  {
   "cell_type": "code",
   "execution_count": null,
   "metadata": {},
   "outputs": [],
   "source": [
    "# Define churn (customers who haven't purchased in 90+ days)\n",
    "customer_df['IS_CHURNED'] = (customer_df['DAYS_SINCE_LAST_PURCHASE'] > 90).astype(int)\n",
    "\n",
    "churn_rate = customer_df['IS_CHURNED'].mean()\n",
    "print(f\"Overall Churn Rate: {churn_rate:.2%}\")\n",
    "\n",
    "churn_counts = customer_df['IS_CHURNED'].value_counts()\n",
    "print(f\"\\nActive Customers: {churn_counts[0]:,}\")\n",
    "print(f\"Churned Customers: {churn_counts[1]:,}\")"
   ]
  },
  {
   "cell_type": "code",
   "execution_count": null,
   "metadata": {},
   "outputs": [],
   "source": [
    "# Churn by membership tier\n",
    "churn_by_tier = customer_df.groupby('MEMBERSHIP_TIER')['IS_CHURNED'].agg(['sum', 'count', 'mean'])\n",
    "churn_by_tier.columns = ['Churned', 'Total', 'Churn_Rate']\n",
    "churn_by_tier = churn_by_tier.sort_values('Churn_Rate', ascending=False)\n",
    "\n",
    "fig = px.bar(churn_by_tier, y='Churn_Rate',\n",
    "             title='Churn Rate by Membership Tier',\n",
    "             labels={'Churn_Rate': 'Churn Rate', 'MEMBERSHIP_TIER': 'Membership Tier'})\n",
    "fig.update_yaxes(tickformat='.1%')\n",
    "fig.show()"
   ]
  },
  {
   "cell_type": "code",
   "execution_count": null,
   "metadata": {},
   "outputs": [],
   "source": [
    "# Churn by country\n",
    "churn_by_country = customer_df.groupby('COUNTRY')['IS_CHURNED'].agg(['sum', 'count', 'mean'])\n",
    "churn_by_country.columns = ['Churned', 'Total', 'Churn_Rate']\n",
    "churn_by_country = churn_by_country.sort_values('Churn_Rate', ascending=False)\n",
    "\n",
    "fig = px.bar(churn_by_country, y='Churn_Rate',\n",
    "             title='Churn Rate by Country',\n",
    "             labels={'Churn_Rate': 'Churn Rate', 'COUNTRY': 'Country'})\n",
    "fig.update_yaxes(tickformat='.1%')\n",
    "fig.show()"
   ]
  },
  {
   "cell_type": "code",
   "execution_count": null,
   "metadata": {},
   "outputs": [],
   "source": [
    "# Compare churned vs active customers\n",
    "comparison_metrics = ['TOTAL_SPEND', 'TOTAL_TRANSACTIONS', 'AVG_TRANSACTION_VALUE', \n",
    "                     'PAGE_VIEWS', 'EMAIL_OPENED', 'SUPPORT_TICKETS']\n",
    "\n",
    "fig, axes = plt.subplots(2, 3, figsize=(18, 10))\n",
    "axes = axes.flatten()\n",
    "\n",
    "for idx, metric in enumerate(comparison_metrics):\n",
    "    data_to_plot = [customer_df[customer_df['IS_CHURNED'] == 0][metric].dropna(),\n",
    "                    customer_df[customer_df['IS_CHURNED'] == 1][metric].dropna()]\n",
    "    \n",
    "    axes[idx].boxplot(data_to_plot, labels=['Active', 'Churned'])\n",
    "    axes[idx].set_title(f'{metric}')\n",
    "    axes[idx].set_ylabel('Value')\n",
    "\n",
    "plt.tight_layout()\n",
    "plt.show()"
   ]
  },
  {
   "cell_type": "code",
   "execution_count": null,
   "metadata": {},
   "outputs": [],
   "source": [
    "# Correlation analysis\n",
    "numeric_cols = ['AGE', 'TOTAL_TRANSACTIONS', 'TOTAL_SPEND', 'AVG_TRANSACTION_VALUE',\n",
    "                'DAYS_SINCE_LAST_PURCHASE', 'PAGE_VIEWS', 'SUPPORT_TICKETS', \n",
    "                'EMAIL_OPENED', 'IS_CHURNED']\n",
    "\n",
    "correlation_matrix = customer_df[numeric_cols].corr()\n",
    "\n",
    "plt.figure(figsize=(12, 10))\n",
    "sns.heatmap(correlation_matrix, annot=True, fmt='.2f', cmap='coolwarm', center=0,\n",
    "            square=True, linewidths=1)\n",
    "plt.title('Feature Correlation Matrix')\n",
    "plt.tight_layout()\n",
    "plt.show()"
   ]
  },
  {
   "cell_type": "markdown",
   "metadata": {},
   "source": [
    "## 7. Key Insights Summary"
   ]
  },
  {
   "cell_type": "code",
   "execution_count": null,
   "metadata": {},
   "outputs": [],
   "source": [
    "print(\"=\" * 60)\n",
    "print(\"KEY INSIGHTS FROM EXPLORATORY DATA ANALYSIS\")\n",
    "print(\"=\" * 60)\n",
    "\n",
    "print(f\"\\n1. CUSTOMER BASE\")\n",
    "print(f\"   - Total Customers: {len(customer_df):,}\")\n",
    "print(f\"   - Average Age: {customer_df['AGE'].mean():.1f} years\")\n",
    "print(f\"   - Gender Distribution: {dict(customer_df['GENDER'].value_counts())}\")\n",
    "\n",
    "print(f\"\\n2. TRANSACTION BEHAVIOR\")\n",
    "print(f\"   - Average Total Spend: ${customer_df['TOTAL_SPEND'].mean():.2f}\")\n",
    "print(f\"   - Median Total Spend: ${customer_df['TOTAL_SPEND'].median():.2f}\")\n",
    "print(f\"   - Average Transactions per Customer: {customer_df['TOTAL_TRANSACTIONS'].mean():.1f}\")\n",
    "\n",
    "print(f\"\\n3. CHURN ANALYSIS\")\n",
    "print(f\"   - Overall Churn Rate: {churn_rate:.2%}\")\n",
    "print(f\"   - Churned Customers: {churn_counts[1]:,}\")\n",
    "print(f\"   - Active Customers: {churn_counts[0]:,}\")\n",
    "\n",
    "print(f\"\\n4. ENGAGEMENT METRICS\")\n",
    "print(f\"   - Average Page Views: {customer_df['PAGE_VIEWS'].mean():.1f}\")\n",
    "print(f\"   - Average Emails Opened: {customer_df['EMAIL_OPENED'].mean():.1f}\")\n",
    "print(f\"   - Average Support Tickets: {customer_df['SUPPORT_TICKETS'].mean():.2f}\")\n",
    "\n",
    "print(\"\\n\" + \"=\" * 60)"
   ]
  },
  {
   "cell_type": "markdown",
   "metadata": {},
   "source": [
    "## 8. Cleanup"
   ]
  },
  {
   "cell_type": "code",
   "execution_count": null,
   "metadata": {},
   "outputs": [],
   "source": [
    "# Disconnect from Snowflake\n",
    "connector.disconnect()\n",
    "print(\"Disconnected from Snowflake\")"
   ]
  }
 ],
 "metadata": {
  "kernelspec": {
   "display_name": "Python 3",
   "language": "python",
   "name": "python3"
  },
  "language_info": {
   "codemirror_mode": {
    "name": "ipython",
    "version": 3
   },
   "file_extension": ".py",
   "mimetype": "text/x-python",
   "name": "python",
   "nbconvert_exporter": "python",
   "pygments_lexer": "ipython3",
   "version": "3.11.0"
  }
 },
 "nbformat": 4,
 "nbformat_minor": 4
}

